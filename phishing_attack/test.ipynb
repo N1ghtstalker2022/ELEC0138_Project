{
 "cells": [
  {
   "cell_type": "code",
   "execution_count": 1,
   "metadata": {},
   "outputs": [],
   "source": [
    "#using faker library generate a csv file with 20 emails and 20 names.\"\n",
    "import csv\n",
    "from faker import Faker"
   ]
  },
  {
   "cell_type": "code",
   "execution_count": 6,
   "metadata": {},
   "outputs": [],
   "source": [
    "fake = Faker()\n",
    "\n",
    "emails = [fake.email() for x in range(20)]\n",
    "names = [fake.name() for x in range(20)]"
   ]
  },
  {
   "cell_type": "code",
   "execution_count": 7,
   "metadata": {},
   "outputs": [
    {
     "data": {
      "text/plain": [
       "['ddiaz@example.org',\n",
       " 'walterhall@example.com',\n",
       " 'spencermeyer@example.com',\n",
       " 'pmurray@example.net',\n",
       " 'adoyle@example.com',\n",
       " 'johnsonnicole@example.com',\n",
       " 'wolfesandra@example.com',\n",
       " 'markknight@example.net',\n",
       " 'rachelgonzalez@example.net',\n",
       " 'jlamb@example.net',\n",
       " 'kathythomas@example.com',\n",
       " 'efranco@example.org',\n",
       " 'toddfrancisco@example.org',\n",
       " 'kimberly49@example.com',\n",
       " 'thomasrobert@example.org',\n",
       " 'morriscalvin@example.net',\n",
       " 'michaelwilliams@example.org',\n",
       " 'joshuaramirez@example.com',\n",
       " 'daniel55@example.com',\n",
       " 'krystal93@example.com']"
      ]
     },
     "execution_count": 7,
     "metadata": {},
     "output_type": "execute_result"
    }
   ],
   "source": [
    "emails"
   ]
  },
  {
   "cell_type": "code",
   "execution_count": 8,
   "metadata": {},
   "outputs": [
    {
     "data": {
      "text/plain": [
       "['Michelle Smith',\n",
       " 'Shelia Jones',\n",
       " 'Joseph Erickson',\n",
       " 'Amy King',\n",
       " 'Nicholas Rodgers',\n",
       " 'Heather Joseph',\n",
       " 'Jason Carrillo',\n",
       " 'Kimberly Chang',\n",
       " 'Madison Wells',\n",
       " 'Ruth Hernandez',\n",
       " 'Jesse Anderson',\n",
       " 'Ronnie Thornton',\n",
       " 'Angel Phillips',\n",
       " 'Jessica Lee',\n",
       " 'Susan Bishop',\n",
       " 'Adam Brown',\n",
       " 'Michelle Harper',\n",
       " 'Amber Garcia',\n",
       " 'Heather Hamilton',\n",
       " 'Ronnie Khan']"
      ]
     },
     "execution_count": 8,
     "metadata": {},
     "output_type": "execute_result"
    }
   ],
   "source": [
    "names"
   ]
  },
  {
   "cell_type": "code",
   "execution_count": null,
   "metadata": {},
   "outputs": [],
   "source": []
  }
 ],
 "metadata": {
  "kernelspec": {
   "display_name": "security",
   "language": "python",
   "name": "python3"
  },
  "language_info": {
   "codemirror_mode": {
    "name": "ipython",
    "version": 3
   },
   "file_extension": ".py",
   "mimetype": "text/x-python",
   "name": "python",
   "nbconvert_exporter": "python",
   "pygments_lexer": "ipython3",
   "version": "3.11.2"
  },
  "orig_nbformat": 4
 },
 "nbformat": 4,
 "nbformat_minor": 2
}
