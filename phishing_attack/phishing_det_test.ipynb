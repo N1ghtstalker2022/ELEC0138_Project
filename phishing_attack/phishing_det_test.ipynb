{
 "cells": [
  {
   "cell_type": "code",
   "execution_count": null,
   "metadata": {},
   "outputs": [],
   "source": [
    "#program that detects phishing websites using machine learning\n",
    "#using keras and tensorflow\n",
    "\n",
    "\n",
    "\n",
    "#https://www.kaggle.com/datasets/shashwatwork/web-page-phishing-detection-dataset\n",
    "#will use this dataset\n",
    "\n",
    "\n",
    "\n"
   ]
  },
  {
   "cell_type": "code",
   "execution_count": null,
   "metadata": {},
   "outputs": [],
   "source": [
    "#where can i find a phishing dataset to train my model?\n",
    "#answer: https://www.kaggle.com/akashkr/phishing-website-dataset"
   ]
  },
  {
   "cell_type": "code",
   "execution_count": null,
   "metadata": {},
   "outputs": [],
   "source": [
    "#import dataset\n",
    "\n"
   ]
  },
  {
   "cell_type": "code",
   "execution_count": null,
   "metadata": {},
   "outputs": [],
   "source": []
  }
 ],
 "metadata": {
  "kernelspec": {
   "display_name": "security",
   "language": "python",
   "name": "python3"
  },
  "language_info": {
   "name": "python",
   "version": "3.11.2"
  },
  "orig_nbformat": 4,
  "vscode": {
   "interpreter": {
    "hash": "35143b995f2c307e23750eb55ddbb549b7c0562a32f67d421d19da04a6127fbb"
   }
  }
 },
 "nbformat": 4,
 "nbformat_minor": 2
}
